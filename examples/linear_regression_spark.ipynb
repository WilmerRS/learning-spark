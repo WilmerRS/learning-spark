{
 "cells": [
  {
   "cell_type": "markdown",
   "id": "be2865d1-c82e-4a01-a321-54c161a3acb5",
   "metadata": {},
   "source": [
    "# **🚀 Machine Learning Pyshark**"
   ]
  },
  {
   "cell_type": "code",
   "execution_count": 41,
   "id": "8b4456d3-edb1-4383-97e5-efcd3125a412",
   "metadata": {},
   "outputs": [],
   "source": [
    "!pip install -q numpy findspark"
   ]
  },
  {
   "cell_type": "code",
   "execution_count": 1,
   "id": "3e43aae8-581f-4462-b2be-88bd32bc3ae5",
   "metadata": {},
   "outputs": [
    {
     "name": "stderr",
     "output_type": "stream",
     "text": [
      "22/12/12 19:38:26 WARN NativeCodeLoader: Unable to load native-hadoop library for your platform... using builtin-java classes where applicable\n",
      "Using Spark's default log4j profile: org/apache/spark/log4j-defaults.properties\n",
      "Setting default log level to \"WARN\".\n",
      "To adjust logging level use sc.setLogLevel(newLevel). For SparkR, use setLogLevel(newLevel).\n"
     ]
    }
   ],
   "source": [
    "from pyspark.sql import SparkSession\n",
    "from pyspark import SparkContext\n",
    "\n",
    "from pyspark.sql import Row\n",
    "from pyspark.ml.linalg import Vectors\n",
    "from pyspark.ml.regression import LinearRegression\n",
    "from pyspark.ml.evaluation import RegressionEvaluator\n",
    "\n",
    "spark = SparkSession.\\\n",
    "        builder.\\\n",
    "        appName(\"linear-regression-spark\").\\\n",
    "        master(\"spark://spark-master:7077\").\\\n",
    "        config(\"spark.executor.memory\", \"512m\").\\\n",
    "        getOrCreate()\n",
    "\n",
    "sc = SparkContext.getOrCreate()"
   ]
  },
  {
   "cell_type": "markdown",
   "id": "3215fd28-bd3c-4f94-a9ad-66fc4603efe8",
   "metadata": {},
   "source": [
    "## **🌀 Load and prepare data**"
   ]
  },
  {
   "cell_type": "code",
   "execution_count": 3,
   "id": "650ec818-8836-45a8-9440-1ca0ad8a7b29",
   "metadata": {},
   "outputs": [
    {
     "name": "stderr",
     "output_type": "stream",
     "text": [
      "                                                                                \r"
     ]
    },
    {
     "data": {
      "text/plain": [
       "['mpg,cylinders,displacement,horsepower,weight,acceleration,model year,origin,car name',\n",
       " '18,8,307,130,3504,12,70,1,chevrolet chevelle malibu',\n",
       " '15,8,350,165,3693,11.5,70,1,buick skylark 320',\n",
       " '18,8,318,150,3436,11,70,1,plymouth satellite',\n",
       " '16,8,304,150,3433,12,70,1,amc rebel sst']"
      ]
     },
     "execution_count": 3,
     "metadata": {},
     "output_type": "execute_result"
    }
   ],
   "source": [
    "autoData = sc.textFile(\"auto-mpg.csv\")\n",
    "autoData.cache()\n",
    "autoData.take(5)"
   ]
  },
  {
   "cell_type": "markdown",
   "id": "4cdca3e9-d11b-430b-a686-2274347b8158",
   "metadata": {},
   "source": [
    "Remove header line.\n"
   ]
  },
  {
   "cell_type": "code",
   "execution_count": 4,
   "id": "8cfcfed6-b964-4f1d-b902-f13d02969bf3",
   "metadata": {},
   "outputs": [
    {
     "name": "stderr",
     "output_type": "stream",
     "text": [
      "                                                                                \r"
     ]
    },
    {
     "data": {
      "text/plain": [
       "398"
      ]
     },
     "execution_count": 4,
     "metadata": {},
     "output_type": "execute_result"
    }
   ],
   "source": [
    "dataLines = autoData.filter(lambda x: \"cylinders\" not in x)\n",
    "dataLines.count()"
   ]
  },
  {
   "cell_type": "markdown",
   "id": "4a2c2868-c610-48da-8c0b-38bfea7f1e8c",
   "metadata": {},
   "source": [
    "### **🛸 Transform data**"
   ]
  },
  {
   "cell_type": "code",
   "execution_count": 5,
   "id": "7c67c577-130d-4998-9cc4-baf265fbc9af",
   "metadata": {},
   "outputs": [
    {
     "data": {
      "text/plain": [
       "[Row(MPG=18.0, CYLINDERS=8.0, DISPLACEMENT=307.0, HORSEPOWER=130.0, WEIGHT=3504.0, ACCELERATION=12.0, MODELYEAR=70.0, NAME='1'),\n",
       " Row(MPG=15.0, CYLINDERS=8.0, DISPLACEMENT=350.0, HORSEPOWER=165.0, WEIGHT=3693.0, ACCELERATION=11.5, MODELYEAR=70.0, NAME='1'),\n",
       " Row(MPG=18.0, CYLINDERS=8.0, DISPLACEMENT=318.0, HORSEPOWER=150.0, WEIGHT=3436.0, ACCELERATION=11.0, MODELYEAR=70.0, NAME='1')]"
      ]
     },
     "execution_count": 5,
     "metadata": {},
     "output_type": "execute_result"
    }
   ],
   "source": [
    "averageHorsePower = sc.broadcast(80.0)\n",
    "\n",
    "def mapToRows(inputStr):\n",
    "    global averageHorsePower\n",
    "    attList = inputStr.split(\",\")\n",
    "    \n",
    "    # ❓️ Replace ? values with a normal value\n",
    "    horsePowerValue = attList[3]\n",
    "    if horsePowerValue == \"?\":\n",
    "        horsePowerValue = averageHorsePower.value # 80\n",
    "       \n",
    "    # ✅ Create a row with cleaned up and converted data\n",
    "    values = Row(     \n",
    "        MPG=float(attList[0]),\\\n",
    "        CYLINDERS=float(attList[1]), \\\n",
    "        DISPLACEMENT=float(attList[2]), \n",
    "        HORSEPOWER=float(horsePowerValue),\\\n",
    "        WEIGHT=float(attList[4]), \\\n",
    "        ACCELERATION=float(attList[5]), \\\n",
    "        MODELYEAR=float(attList[6]),\\\n",
    "        NAME=attList[7],\n",
    "    ) \n",
    "    return values\n",
    "\n",
    "autoMap = dataLines.map(mapToRows)\n",
    "autoMap.cache()\n",
    "autoMap.take(3)"
   ]
  },
  {
   "cell_type": "markdown",
   "id": "272ce836-13ae-4a71-85fd-cbe5d9ca4868",
   "metadata": {},
   "source": [
    "### **㊗️ Transform RDD to DataFrame**"
   ]
  },
  {
   "cell_type": "code",
   "execution_count": 6,
   "id": "a73cb8ca-b02b-46dd-923b-769a7240ed7e",
   "metadata": {},
   "outputs": [
    {
     "name": "stdout",
     "output_type": "stream",
     "text": [
      "+----+---------+------------+----------+------+------------+---------+----+\n",
      "| MPG|CYLINDERS|DISPLACEMENT|HORSEPOWER|WEIGHT|ACCELERATION|MODELYEAR|NAME|\n",
      "+----+---------+------------+----------+------+------------+---------+----+\n",
      "|18.0|      8.0|       307.0|     130.0|3504.0|        12.0|     70.0|   1|\n",
      "|15.0|      8.0|       350.0|     165.0|3693.0|        11.5|     70.0|   1|\n",
      "+----+---------+------------+----------+------+------------+---------+----+\n",
      "only showing top 2 rows\n",
      "\n"
     ]
    },
    {
     "name": "stderr",
     "output_type": "stream",
     "text": [
      "                                                                                \r"
     ]
    }
   ],
   "source": [
    "autoDf = spark.createDataFrame(autoMap)\n",
    "autoDf.show(2)"
   ]
  },
  {
   "cell_type": "markdown",
   "id": "fd2b34c0-0871-4156-8ce0-66a7fb618790",
   "metadata": {},
   "source": [
    "### **🕒️ Data Analytics**\n",
    "\n",
    "Basic statistics and correlations."
   ]
  },
  {
   "cell_type": "code",
   "execution_count": 7,
   "id": "92194348-826c-4e9d-9cb7-30dce78618dd",
   "metadata": {},
   "outputs": [
    {
     "name": "stderr",
     "output_type": "stream",
     "text": [
      "[Stage 5:=============================>                             (1 + 1) / 2]\r"
     ]
    },
    {
     "name": "stdout",
     "output_type": "stream",
     "text": [
      "+-------+-----------------+------------------+\n",
      "|summary|              MPG|         CYLINDERS|\n",
      "+-------+-----------------+------------------+\n",
      "|  count|              398|               398|\n",
      "|   mean|23.51457286432161| 5.454773869346734|\n",
      "| stddev|7.815984312565783|1.7010042445332125|\n",
      "|    min|              9.0|               3.0|\n",
      "|    max|             46.6|               8.0|\n",
      "+-------+-----------------+------------------+\n",
      "\n"
     ]
    },
    {
     "name": "stderr",
     "output_type": "stream",
     "text": [
      "                                                                                \r"
     ]
    }
   ],
   "source": [
    "autoDf.select(\"MPG\",\"CYLINDERS\").describe().show()"
   ]
  },
  {
   "cell_type": "code",
   "execution_count": 8,
   "id": "5de4735c-82b4-4418-875a-b8cc6c7ce279",
   "metadata": {},
   "outputs": [
    {
     "name": "stdout",
     "output_type": "stream",
     "text": [
      "Correlation to MPG for  MPG 1.0\n",
      "Correlation to MPG for  CYLINDERS -0.7753962854205549\n",
      "Correlation to MPG for  DISPLACEMENT -0.804202824805898\n",
      "Correlation to MPG for  HORSEPOWER -0.7746308409203809\n",
      "Correlation to MPG for  WEIGHT -0.8317409332443345\n",
      "Correlation to MPG for  ACCELERATION 0.42028891210165126\n",
      "Correlation to MPG for  MODELYEAR 0.5792671330833099\n"
     ]
    }
   ],
   "source": [
    "for column in autoDf.columns:\n",
    "  if not isinstance(autoDf.select(column).take(1)[0][0], str):\n",
    "    print( \"Correlation to MPG for \", column, autoDf.stat.corr('MPG', column))"
   ]
  },
  {
   "cell_type": "markdown",
   "id": "06da7233-1101-4427-a74c-1cc79ee8e43b",
   "metadata": {},
   "source": [
    "### **🔥 Label encoder**\n",
    "\n",
    "Transform to a Data Frame for input to Machine Learing. Drop columns that are not required (low correlation)."
   ]
  },
  {
   "cell_type": "code",
   "execution_count": 9,
   "id": "13c0f93a-cce3-4a7d-b80c-483a258ff2d3",
   "metadata": {},
   "outputs": [
    {
     "name": "stdout",
     "output_type": "stream",
     "text": [
      "+-----+-------------------+\n",
      "|label|           features|\n",
      "+-----+-------------------+\n",
      "| 18.0|[12.0,307.0,3504.0]|\n",
      "| 15.0|[11.5,350.0,3693.0]|\n",
      "+-----+-------------------+\n",
      "only showing top 2 rows\n",
      "\n"
     ]
    }
   ],
   "source": [
    "def transformToLabeledPoint(row) :\n",
    "    labeledPoint = (\n",
    "        row[\"MPG\"], \n",
    "        Vectors.dense([\n",
    "            row[\"ACCELERATION\"],\n",
    "            row[\"DISPLACEMENT\"],\n",
    "            row[\"WEIGHT\"],\n",
    "        ])\n",
    "    )\n",
    "    return labeledPoint\n",
    "\n",
    "\n",
    "autoLp = autoMap.map(transformToLabeledPoint)\n",
    "autoDF = spark.createDataFrame(autoLp, [\"label\", \"features\"])\n",
    "autoDF.select(\"label\", \"features\").show(2)"
   ]
  },
  {
   "cell_type": "markdown",
   "id": "dc2ca7fa-34d2-4695-a508-22639c415d94",
   "metadata": {},
   "source": [
    "## **🚀 Linear Regression**"
   ]
  },
  {
   "cell_type": "code",
   "execution_count": 14,
   "id": "1e2793c5-e77f-4a80-bc9d-a100133c53cd",
   "metadata": {},
   "outputs": [
    {
     "name": "stdout",
     "output_type": "stream",
     "text": [
      "360\n",
      "38\n"
     ]
    }
   ],
   "source": [
    "(trainingData, testData) = autoDF.randomSplit([0.9, 0.1])\n",
    "\n",
    "print(trainingData.count())\n",
    "print(testData.count())"
   ]
  },
  {
   "cell_type": "code",
   "execution_count": 15,
   "id": "099ad76a-0216-4fee-85ae-409a144c9c93",
   "metadata": {},
   "outputs": [
    {
     "name": "stderr",
     "output_type": "stream",
     "text": [
      "22/12/12 12:20:22 WARN Instrumentation: [8fb2e7ed] regParam is zero, which might cause numerical instability and overfitting.\n"
     ]
    },
    {
     "name": "stdout",
     "output_type": "stream",
     "text": [
      "Coefficients: [0.22742460655840563,-0.0064283955436110285,-0.006596397457056918]\n",
      "Intercept: 40.79518707982478\n"
     ]
    }
   ],
   "source": [
    "lr = LinearRegression(maxIter=10)\n",
    "lrModel = lr.fit(trainingData)\n",
    "\n",
    "print(\"Coefficients: \" + str(lrModel.coefficients))\n",
    "print(\"Intercept: \" + str(lrModel.intercept))"
   ]
  },
  {
   "cell_type": "code",
   "execution_count": 16,
   "id": "3ab9c70c-49da-43ee-8f69-d6b8255a7f06",
   "metadata": {},
   "outputs": [
    {
     "name": "stdout",
     "output_type": "stream",
     "text": [
      "+------------------+-----+-------------------+\n",
      "|        prediction|label|           features|\n",
      "+------------------+-----+-------------------+\n",
      "| 8.445575261284624| 11.0|[14.0,400.0,4997.0]|\n",
      "| 7.713173969735415| 12.0|[11.0,455.0,4951.0]|\n",
      "| 7.987428159691454| 12.0|[11.5,429.0,4952.0]|\n",
      "|13.081341186800518| 13.0|[12.0,350.0,4274.0]|\n",
      "|15.195335466077204| 13.0|[13.0,350.0,3988.0]|\n",
      "|16.622531024945857| 14.0| [8.0,340.0,3609.0]|\n",
      "| 19.78803062058817| 14.0|[10.0,455.0,3086.0]|\n",
      "|11.898513924758753| 14.0|[16.0,302.0,4638.0]|\n",
      "| 16.67917168363256| 15.0|[12.5,318.0,3777.0]|\n",
      "|18.924617643191493| 16.0|[12.0,304.0,3433.0]|\n",
      "|19.272188383593708| 16.0|[18.0,258.0,3632.0]|\n",
      "|18.702501232161573| 18.0|[19.0,225.0,3785.0]|\n",
      "|28.045825505367866| 19.0| [13.5,70.0,2330.0]|\n",
      "|21.988985390590152| 19.0|[17.0,232.0,3211.0]|\n",
      "| 20.93418342675683| 20.0|[13.5,262.0,3221.0]|\n",
      "|28.445866455015086| 20.0|[19.5,140.0,2408.0]|\n",
      "|28.160596818990072| 22.0|[16.5,108.0,2379.0]|\n",
      "| 22.95658623411437| 22.5|[17.6,232.0,3085.0]|\n",
      "| 28.41792900003374| 26.0|[14.0,116.0,2246.0]|\n",
      "| 28.29757535596048| 26.0| [14.5,97.0,2300.0]|\n",
      "+------------------+-----+-------------------+\n",
      "only showing top 20 rows\n",
      "\n"
     ]
    }
   ],
   "source": [
    "predictions = lrModel.transform(testData)\n",
    "\n",
    "predictions.select(\"prediction\",\"label\",\"features\").show()"
   ]
  },
  {
   "cell_type": "markdown",
   "id": "06fa624d-e3c3-4773-80dd-810dcc276b34",
   "metadata": {},
   "source": [
    "### **✅ Evaluate model**"
   ]
  },
  {
   "cell_type": "code",
   "execution_count": 17,
   "id": "b54549a5-b530-4204-a1f0-839156646282",
   "metadata": {},
   "outputs": [
    {
     "data": {
      "text/plain": [
       "0.7083646989273807"
      ]
     },
     "execution_count": 17,
     "metadata": {},
     "output_type": "execute_result"
    }
   ],
   "source": [
    "evaluator = RegressionEvaluator(\n",
    "    predictionCol=\"prediction\",\n",
    "    labelCol=\"label\",\n",
    "    metricName=\"r2\",\n",
    ")\n",
    "evaluator.evaluate(predictions)"
   ]
  },
  {
   "cell_type": "code",
   "execution_count": 10,
   "id": "f1a5c7f6-ca77-4b2f-99a7-6d91e28c4d70",
   "metadata": {},
   "outputs": [],
   "source": [
    "spark.stop()"
   ]
  }
 ],
 "metadata": {
  "kernelspec": {
   "display_name": "Python 3 (ipykernel)",
   "language": "python",
   "name": "python3"
  },
  "language_info": {
   "codemirror_mode": {
    "name": "ipython",
    "version": 3
   },
   "file_extension": ".py",
   "mimetype": "text/x-python",
   "name": "python",
   "nbconvert_exporter": "python",
   "pygments_lexer": "ipython3",
   "version": "3.9.2"
  }
 },
 "nbformat": 4,
 "nbformat_minor": 5
}
